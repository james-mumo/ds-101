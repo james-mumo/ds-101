{
 "cells": [
  {
   "cell_type": "code",
   "execution_count": 2,
   "id": "78550972-a5bb-4373-b979-518bb48fc266",
   "metadata": {},
   "outputs": [],
   "source": [
    "# so in python there are no arrys but we have lists tuples dicts and sets"
   ]
  },
  {
   "cell_type": "code",
   "execution_count": 4,
   "id": "9020995c-5014-48aa-9c2d-1c6285a86588",
   "metadata": {},
   "outputs": [
    {
     "name": "stdout",
     "output_type": "stream",
     "text": [
      "['james', 'Kitho', 'mumo']\n"
     ]
    }
   ],
   "source": [
    "names = list((\"james\", \"Kitho\", \"mumo\"))\n",
    "\n",
    "print(names)\n"
   ]
  },
  {
   "cell_type": "code",
   "execution_count": 6,
   "id": "608292ed-91fc-4d3a-a723-7c72204b9b86",
   "metadata": {},
   "outputs": [
    {
     "name": "stdout",
     "output_type": "stream",
     "text": [
      "3\n"
     ]
    }
   ],
   "source": [
    "print(len(names))"
   ]
  },
  {
   "cell_type": "code",
   "execution_count": 8,
   "id": "00598500-8151-4914-b821-c72fb9dd308c",
   "metadata": {},
   "outputs": [
    {
     "name": "stdout",
     "output_type": "stream",
     "text": [
      "<class 'list'>\n"
     ]
    }
   ],
   "source": [
    "print(type(names))"
   ]
  },
  {
   "cell_type": "code",
   "execution_count": 9,
   "id": "8787bfe2-f603-43f6-8898-eed4384a7dba",
   "metadata": {},
   "outputs": [
    {
     "name": "stdout",
     "output_type": "stream",
     "text": [
      "['apple', 'banana', 'cherry', 'orange']\n"
     ]
    }
   ],
   "source": [
    "# accessing items\n",
    "# append to add to the end\n",
    "thislist = [\"apple\", \"banana\", \"cherry\"]\n",
    "thislist.append(\"orange\")\n",
    "print(thislist)"
   ]
  },
  {
   "cell_type": "code",
   "execution_count": 10,
   "id": "3b4d873b-25cb-47b6-9122-3330083009a5",
   "metadata": {},
   "outputs": [
    {
     "name": "stdout",
     "output_type": "stream",
     "text": [
      "['Kiwi', 'apple', 'banana', 'cherry']\n"
     ]
    }
   ],
   "source": [
    "thislist = [\"apple\", \"banana\", \"cherry\"]\n",
    "thislist.insert(0, \"Kiwi\")\n",
    "print(thislist)"
   ]
  },
  {
   "cell_type": "code",
   "execution_count": 12,
   "id": "8b411cb8-6c83-45f0-b7e2-26e0b7bd57b9",
   "metadata": {},
   "outputs": [
    {
     "name": "stdout",
     "output_type": "stream",
     "text": [
      "[1, 2, 3, 4, 9, 22, 2, 55, 3, 4]\n"
     ]
    }
   ],
   "source": [
    "names = [1,2,3,4,9]\n",
    "\n",
    "namess =  [22,2,55,3,4]\n",
    "names.extend(namess)\n",
    "print(names)"
   ]
  },
  {
   "cell_type": "code",
   "execution_count": 13,
   "id": "499407eb-d580-4731-a632-8a994932c555",
   "metadata": {},
   "outputs": [
    {
     "name": "stdout",
     "output_type": "stream",
     "text": [
      "['apple', 'cherry', 'banana', 'kiwi']\n"
     ]
    }
   ],
   "source": [
    "thislist = [\"apple\", \"banana\", \"cherry\", \"banana\", \"kiwi\"]\n",
    "thislist.remove(\"banana\")\n",
    "print(thislist)"
   ]
  },
  {
   "cell_type": "code",
   "execution_count": 16,
   "id": "c9a80d34-f185-461a-9e53-738d94280442",
   "metadata": {},
   "outputs": [
    {
     "data": {
      "text/plain": [
       "9"
      ]
     },
     "execution_count": 16,
     "metadata": {},
     "output_type": "execute_result"
    }
   ],
   "source": [
    "names.pop(3)"
   ]
  },
  {
   "cell_type": "code",
   "execution_count": 20,
   "id": "7ae6c545-2132-4ef6-bd44-61f464112808",
   "metadata": {},
   "outputs": [
    {
     "name": "stdout",
     "output_type": "stream",
     "text": [
      "idx 0 : 1\n",
      "idx 1 : 2\n",
      "idx 2 : 3\n",
      "idx 3 : 22\n",
      "idx 4 : 2\n",
      "idx 5 : 55\n",
      "idx 6 : 3\n"
     ]
    }
   ],
   "source": [
    "for i in range(len(names)):\n",
    "    print(\"idx\", i, \":\", names[i])"
   ]
  },
  {
   "cell_type": "code",
   "execution_count": 1,
   "id": "bb3b3b28-296f-4ab2-8007-f9cb2fcaecf9",
   "metadata": {},
   "outputs": [],
   "source": [
    "ls = [1,2,3,4,5,6]\n",
    "\n",
    "i=0"
   ]
  },
  {
   "cell_type": "code",
   "execution_count": 3,
   "id": "92f3565e-17d3-43c9-8dc6-f86e09971add",
   "metadata": {},
   "outputs": [
    {
     "name": "stdout",
     "output_type": "stream",
     "text": [
      "1\n",
      "2\n",
      "3\n",
      "4\n",
      "5\n",
      "6\n"
     ]
    },
    {
     "data": {
      "text/plain": [
       "[None, None, None, None, None, None]"
      ]
     },
     "execution_count": 3,
     "metadata": {},
     "output_type": "execute_result"
    }
   ],
   "source": [
    "[print(x) for x in ls]"
   ]
  },
  {
   "cell_type": "code",
   "execution_count": 6,
   "id": "a56e3b68-043c-4b23-8043-58bc15aa78e2",
   "metadata": {},
   "outputs": [
    {
     "name": "stdout",
     "output_type": "stream",
     "text": [
      "1\n",
      "2\n",
      "3\n",
      "4\n",
      "9\n"
     ]
    }
   ],
   "source": [
    "# so list comprehiension is when u want to create a new ust based i existng inetegers eg see below\n",
    "names = [1,2,3,4,9]\n",
    "names2 = [print(x) for x in names]\n",
    "\n"
   ]
  },
  {
   "cell_type": "code",
   "execution_count": 8,
   "id": "9249ab44-5495-42ba-9e9d-3329e53de58d",
   "metadata": {},
   "outputs": [
    {
     "name": "stdout",
     "output_type": "stream",
     "text": [
      "apple\n",
      "banana\n",
      "cherry\n",
      "kiwi\n",
      "mango\n"
     ]
    }
   ],
   "source": [
    "fruits = [\"apple\", \"banana\", \"cherry\", \"kiwi\", \"mango\"]\n",
    "names2 = [print(x) for x in fruits]"
   ]
  },
  {
   "cell_type": "code",
   "execution_count": 14,
   "id": "d150df52-0b2d-49c8-899d-e1189495d83d",
   "metadata": {},
   "outputs": [
    {
     "name": "stdout",
     "output_type": "stream",
     "text": [
      "['apple', 'cherry']\n"
     ]
    }
   ],
   "source": [
    "fruits = [\"apple\", \"banana\", \"cherry\", \"kiwi\", \"mango\"]\n",
    "filtered = []\n",
    "\n",
    "for x in fruits:\n",
    "    if 'ap' in x or 'e' in x:\n",
    "        filtered.append(x)\n",
    "print(filtered)"
   ]
  },
  {
   "cell_type": "code",
   "execution_count": null,
   "id": "7d225703-d7c4-4066-a6b5-55ede28bd571",
   "metadata": {},
   "outputs": [],
   "source": []
  },
  {
   "cell_type": "code",
   "execution_count": null,
   "id": "b4932cda-ff5b-479c-88ba-847b163b7f23",
   "metadata": {},
   "outputs": [],
   "source": []
  }
 ],
 "metadata": {
  "kernelspec": {
   "display_name": "Python 3 (ipykernel)",
   "language": "python",
   "name": "python3"
  },
  "language_info": {
   "codemirror_mode": {
    "name": "ipython",
    "version": 3
   },
   "file_extension": ".py",
   "mimetype": "text/x-python",
   "name": "python",
   "nbconvert_exporter": "python",
   "pygments_lexer": "ipython3",
   "version": "3.13.5"
  }
 },
 "nbformat": 4,
 "nbformat_minor": 5
}
