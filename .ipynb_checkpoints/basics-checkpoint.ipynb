{
 "cells": [
  {
   "cell_type": "code",
   "execution_count": 12,
   "id": "e498416a",
   "metadata": {
    "vscode": {
     "languageId": "plaintext"
    }
   },
   "outputs": [
    {
     "name": "stdout",
     "output_type": "stream",
     "text": [
      "0\n",
      "1\n",
      "2\n",
      "3\n",
      "4\n",
      "5\n"
     ]
    }
   ],
   "source": [
    "# range starts from 0 to number specified in no start added\n",
    "\n",
    "x = range(6)\t\n",
    "\n",
    "for x in range(6):\n",
    "    print(x)"
   ]
  },
  {
   "cell_type": "code",
   "execution_count": 14,
   "id": "4e9fcd93-7a00-49f7-a57c-9d9f4c89b845",
   "metadata": {},
   "outputs": [
    {
     "name": "stdout",
     "output_type": "stream",
     "text": [
      "2\n",
      "3\n",
      "4\n",
      "5\n",
      "6\n",
      "7\n",
      "8\n"
     ]
    }
   ],
   "source": [
    "for i in range(2,9):\n",
    "    print(i)"
   ]
  },
  {
   "cell_type": "code",
   "execution_count": 35,
   "id": "7934b02f-cc85-4753-830e-758072354939",
   "metadata": {},
   "outputs": [
    {
     "name": "stdout",
     "output_type": "stream",
     "text": [
      "ames\n"
     ]
    }
   ],
   "source": [
    "# complex data type is as 2j\n",
    "\n",
    "name = \"James\"\n",
    "print(name[1:])"
   ]
  },
  {
   "cell_type": "code",
   "execution_count": 33,
   "id": "b79aba19-6266-4125-9316-8cd1e706c4fa",
   "metadata": {},
   "outputs": [
    {
     "name": "stdout",
     "output_type": "stream",
     "text": [
      "co\n"
     ]
    }
   ],
   "source": [
    "# What will be the result of the following code:\n",
    "x = 'Welcome'\n",
    "print(x[3:5])"
   ]
  },
  {
   "cell_type": "code",
   "execution_count": 42,
   "id": "ac8e0b97-dd9b-4c1f-a550-28630e0781ed",
   "metadata": {},
   "outputs": [
    {
     "name": "stdout",
     "output_type": "stream",
     "text": [
      "['Jam', 'sss']\n",
      "JamEsss\n"
     ]
    }
   ],
   "source": [
    "name = \"Jamesss \"\n",
    "name = name.strip()\n",
    "print(name.split(\"e\"))\n",
    "\n",
    "\n",
    "print(name.replace('e', 'E'))\n"
   ]
  },
  {
   "cell_type": "code",
   "execution_count": 69,
   "id": "fa198bc4-36cb-4e5d-b945-2efabbc6b5a5",
   "metadata": {},
   "outputs": [
    {
     "name": "stdout",
     "output_type": "stream",
     "text": [
      "JAME\u00000S MUMO\n"
     ]
    }
   ],
   "source": [
    "fname = \"Jame\\0000s\"\n",
    "lname = \"Mumo\"\n",
    "\n",
    "fullname = fname +\" \"+ lname\n",
    "\n",
    "print(fullname.upper())"
   ]
  },
  {
   "cell_type": "code",
   "execution_count": 74,
   "id": "cac51fa1-126f-4880-8138-6ec96f004db1",
   "metadata": {},
   "outputs": [
    {
     "name": "stdout",
     "output_type": "stream",
     "text": [
      "True\n",
      "True\n"
     ]
    }
   ],
   "source": [
    "print(bool(\"Hello\"))\n",
    "print(bool(15))"
   ]
  },
  {
   "cell_type": "code",
   "execution_count": null,
   "id": "278b4152-3a90-4b66-ad6b-2a6aa8eec598",
   "metadata": {},
   "outputs": [],
   "source": []
  }
 ],
 "metadata": {
  "kernelspec": {
   "display_name": "Python 3 (ipykernel)",
   "language": "python",
   "name": "python3"
  },
  "language_info": {
   "codemirror_mode": {
    "name": "ipython",
    "version": 3
   },
   "file_extension": ".py",
   "mimetype": "text/x-python",
   "name": "python",
   "nbconvert_exporter": "python",
   "pygments_lexer": "ipython3",
   "version": "3.13.5"
  }
 },
 "nbformat": 4,
 "nbformat_minor": 5
}
